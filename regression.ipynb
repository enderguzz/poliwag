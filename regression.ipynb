{
 "cells": [
  {
   "cell_type": "code",
   "execution_count": 1,
   "id": "99c10bc5",
   "metadata": {},
   "outputs": [],
   "source": [
    "# Import libraries\n",
    "import pandas as pd\n",
    "import numpy as np\n",
    "from sklearn.ensemble import RandomForestRegressor\n",
    "from sklearn.linear_model import LinearRegression\n",
    "from sklearn.model_selection import train_test_split\n",
    "from sklearn.metrics import mean_absolute_error\n",
    "from sklearn.metrics import accuracy_score\n",
    "\n",
    "# Load the data\n",
    "df_spotify = pd.read_csv(\"SpotifyFeatures.csv\")\n",
    "X = df_spotify[['acousticness', 'danceability', 'duration_ms', 'energy', 'tempo']]\n",
    "y = df_spotify['popularity']\n",
    "\n",
    "# Transform the labels into a binary classification problem\n",
    "y_binary = y.apply(lambda x: 1 if x > 74 else 0)\n",
    "\n",
    "# Split the data into training and test sets\n",
    "X_train, X_test, y_train, y_test = train_test_split(X, y_binary, test_size=0.2, random_state=42)"
   ]
  },
  {
   "cell_type": "code",
   "execution_count": 4,
   "id": "f3fcbc6c",
   "metadata": {},
   "outputs": [
    {
     "name": "stdout",
     "output_type": "stream",
     "text": [
      "RF MAE: 0.017286919939610883\n",
      "LR MAE: 0.03204867679350833\n"
     ]
    }
   ],
   "source": [
    "# Define the base models\n",
    "model_1 = RandomForestRegressor(n_estimators=100, random_state=42)\n",
    "model_2 = LinearRegression()\n",
    "\n",
    "# Fit the base models to the training data\n",
    "model_1.fit(X_train, y_train)\n",
    "model_2.fit(X_train, y_train)\n",
    "\n",
    "# Make predictions with the base models on the test data\n",
    "y_pred_1 = model_1.predict(X_test)\n",
    "y_pred_2 = model_2.predict(X_test)\n",
    "\n",
    "# Print the accuracy score of the models\n",
    "rf_mae = mean_absolute_error(y_test, y_pred_1)\n",
    "print(\"RF MAE:\", rf_mae)\n",
    "lr_mae = mean_absolute_error(y_test, y_pred_2)\n",
    "print(\"LR MAE:\", lr_mae)"
   ]
  },
  {
   "cell_type": "code",
   "execution_count": 3,
   "id": "2f6a8228",
   "metadata": {},
   "outputs": [],
   "source": [
    "# Concatenate the predictions from the base models and use them as input to the meta-model\n",
    "X_meta = np.concatenate([y_pred_1.reshape(-1, 1), y_pred_2.reshape(-1, 1)], axis=1)\n",
    "\n",
    "# Define and fit the meta-model\n",
    "meta_model = LinearRegression()\n",
    "meta_model.fit(X_meta, y_test)\n",
    "\n",
    "# Make final predictions with the meta-model\n",
    "y_pred = meta_model.predict(X_meta)\n",
    "\n",
    "# Convert the predictions to binary labels (0 or 1)\n",
    "y_pred_binary = y_pred.round().astype(int)"
   ]
  },
  {
   "cell_type": "code",
   "execution_count": 4,
   "id": "c7246485",
   "metadata": {
    "scrolled": true
   },
   "outputs": [
    {
     "name": "stdout",
     "output_type": "stream",
     "text": [
      "Accuracy: 0.9954237834353851\n"
     ]
    }
   ],
   "source": [
    "# Compute and print the accuracy score\n",
    "accuracy = accuracy_score(y_test, y_pred_binary)\n",
    "\n",
    "print(\"Accuracy:\", accuracy)"
   ]
  }
 ],
 "metadata": {
  "kernelspec": {
   "display_name": "Python 3 (ipykernel)",
   "language": "python",
   "name": "python3"
  },
  "language_info": {
   "codemirror_mode": {
    "name": "ipython",
    "version": 3
   },
   "file_extension": ".py",
   "mimetype": "text/x-python",
   "name": "python",
   "nbconvert_exporter": "python",
   "pygments_lexer": "ipython3",
   "version": "3.9.12"
  }
 },
 "nbformat": 4,
 "nbformat_minor": 5
}
